{
 "cells": [
  {
   "cell_type": "code",
   "execution_count": 3,
   "metadata": {},
   "outputs": [],
   "source": [
    "import cv2\n",
    "import numpy as np\n",
    "\n",
    "def turn_pixels_light_yellow(image_path, output_path):\n",
    "    # Load image\n",
    "    image = cv2.imread(image_path, cv2.IMREAD_UNCHANGED)\n",
    "    \n",
    "    # Check if image has an alpha channel\n",
    "    has_alpha = image.shape[-1] == 4 if len(image.shape) == 3 else False\n",
    "\n",
    "    # Define light yellow color (BGR)\n",
    "    light_yellow = np.array([200, 255, 255], dtype=np.uint8)  # Light yellow in BGR\n",
    "\n",
    "    # Create a new image filled with light yellow\n",
    "    new_image = np.full_like(image[..., :3], light_yellow)\n",
    "\n",
    "    # If alpha channel exists, preserve it\n",
    "    if has_alpha:\n",
    "        alpha_channel = image[..., 3]\n",
    "        new_image = np.dstack((new_image, alpha_channel))\n",
    "\n",
    "    # Save the new image\n",
    "    cv2.imwrite(output_path, new_image)\n"
   ]
  },
  {
   "cell_type": "code",
   "execution_count": 4,
   "metadata": {},
   "outputs": [],
   "source": [
    "turn_pixels_light_yellow(\"public/character_1-8.png\", \"public/character_1-8_glow.png\")"
   ]
  },
  {
   "cell_type": "code",
   "execution_count": 5,
   "metadata": {},
   "outputs": [],
   "source": [
    "turn_pixels_light_yellow(\"public/character_9-16.png\", \"public/character_9-16_glow.png\")"
   ]
  },
  {
   "cell_type": "code",
   "execution_count": 6,
   "metadata": {},
   "outputs": [],
   "source": [
    "turn_pixels_light_yellow(\"public/glow.png\", \"public/golden_glow.png\")"
   ]
  }
 ],
 "metadata": {
  "kernelspec": {
   "display_name": "self-use",
   "language": "python",
   "name": "python3"
  },
  "language_info": {
   "codemirror_mode": {
    "name": "ipython",
    "version": 3
   },
   "file_extension": ".py",
   "mimetype": "text/x-python",
   "name": "python",
   "nbconvert_exporter": "python",
   "pygments_lexer": "ipython3",
   "version": "3.12.7"
  }
 },
 "nbformat": 4,
 "nbformat_minor": 2
}
